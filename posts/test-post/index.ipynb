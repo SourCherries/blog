{
  "cells": [
    {
      "cell_type": "raw",
      "metadata": {},
      "source": [
        "---\n",
        "title: \"Numpy masked arrays\"\n",
        "author: \"Carl Gaspar\"\n",
        "date: \"2023-08-01\"\n",
        "categories: [numpy, missing-data, matrices]\n",
        "image: \"image.jpg\"\n",
        "---"
      ],
      "id": "a557c8d0"
    },
    {
      "cell_type": "markdown",
      "metadata": {},
      "source": [
        "This is a post with executable code.\n"
      ],
      "id": "b0cde1db"
    },
    {
      "cell_type": "code",
      "metadata": {},
      "source": [
        "1 + 1"
      ],
      "id": "19a35319",
      "execution_count": null,
      "outputs": []
    }
  ],
  "metadata": {
    "kernelspec": {
      "display_name": "Python 3",
      "language": "python",
      "name": "python3"
    }
  },
  "nbformat": 4,
  "nbformat_minor": 5
}